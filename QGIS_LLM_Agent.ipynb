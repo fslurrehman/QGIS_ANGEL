{
  "nbformat": 4,
  "nbformat_minor": 0,
  "metadata": {
    "colab": {
      "provenance": [],
      "gpuType": "T4"
    },
    "kernelspec": {
      "name": "python3",
      "display_name": "Python 3"
    },
    "language_info": {
      "name": "python"
    },
    "accelerator": "GPU"
  },
  "cells": [
    {
      "cell_type": "markdown",
      "source": [
        "Change the runtime to GPU T4 then connect.\n",
        "Run the below cell to connect to your google drive, where you uploaded qgis_copilot folder at the root of your drive.\n",
        "\n",
        "\n"
      ],
      "metadata": {
        "id": "BFQ_qFbmcMyL"
      }
    },
    {
      "cell_type": "code",
      "execution_count": null,
      "metadata": {
        "id": "IbHL23w1zacB",
        "colab": {
          "base_uri": "https://localhost:8080/"
        },
        "outputId": "f86c8ee7-ba52-46ed-d2e0-10eaf6fe28e6"
      },
      "outputs": [
        {
          "output_type": "stream",
          "name": "stdout",
          "text": [
            "Mounted at /content/drive\n"
          ]
        }
      ],
      "source": [
        "from google.colab import drive\n",
        "drive.mount('/content/drive')"
      ]
    },
    {
      "cell_type": "markdown",
      "source": [
        "Run the following commands in the terminal, not in the cells.\n",
        "\n",
        "Open terminal and run following command to setup\n",
        "the micromamba environment for qgis:\n",
        "\n",
        "```\n",
        "cd drive/MyDrive/qgis_copilot\n",
        "chmod +x setup.sh\n",
        "./setup.sh\n",
        "```\n",
        "\n",
        "How to find elev_bands in dem:\n",
        "```\n",
        "chmod +x run_elev_bands.sh\n",
        "./run_elev_bands.sh proj/data/dem_filled.tif proj/data/elev_bands_5m.gpkg 5\n",
        "```"
      ],
      "metadata": {
        "id": "lb1sRmoUa_Wg"
      }
    },
    {
      "cell_type": "markdown",
      "source": [
        "\n",
        "Steps for setting up LLM model.\n",
        "Note: All code are needed to be executed in terminal of colab\n",
        "\n",
        "Open terminal and run your codes listed below there:\n",
        "\n",
        "0) In Colab or your terminal: point to micromamba\n",
        "```\n",
        "export PATH=/opt/mamba/bin:$PATH\n",
        "```\n",
        "\n",
        "1) Create a clean env (example: Python 3.10)\n",
        "```\n",
        "micromamba create -y -n qgis310 python=3.10\n",
        "micromamba run -n qgis310 python -V\n",
        "```\n",
        "\n",
        "2) Install PyTorch that matches your CUDA (example: CUDA 12.x wheels)\n",
        "```\n",
        "# Use the command from https://pytorch.org/get-started/locally/\n",
        "micromamba run -n qgis310 pip install torch --index-url https://download.pytorch.org/whl/cu121\n",
        "```\n",
        "\n",
        "3) Install vLLM matched to that Torch/CUDA, plus the rest\n",
        "```\n",
        "micromamba run -n qgis310 pip install vllm transformers accelerate huggingface_hub openai\n",
        "```\n",
        "\n",
        "4) Download the model:\n",
        "```\n",
        "micromamba run -n qgis310 python - <<'PY'\n",
        "from huggingface_hub import snapshot_download\n",
        "print(\"⬇️  Qwen2-7B-Instruct-AWQ …\")\n",
        "p = snapshot_download(\"Qwen/Qwen2-7B-Instruct-AWQ\",\n",
        "                      local_dir=\"./models/qwen2-7b-instruct-awq\")\n",
        "print(\"MODEL_DIR=\"+p)\n",
        "PY\n",
        "```\n",
        "\n",
        "5) Run server in the terminal:\n",
        "```\n",
        "MODEL_DIR=\"./models/qwen2-7b-instruct-awq\"\n",
        "micromamba run -n qgis310 python -m vllm.entrypoints.openai.api_server \\\n",
        "  --model \"$MODEL_DIR\" --quantization awq \\\n",
        "  --host 127.0.0.1 --port 8000 --dtype auto --max-model-len 8192\n",
        "```\n",
        "  \n",
        "6) Then run rest of the Notebook cells."
      ],
      "metadata": {
        "id": "kJogxazmegN_"
      }
    },
    {
      "cell_type": "markdown",
      "source": [
        "Once server is running in the terminal and it shows:\n",
        "```\n",
        "(APIServer pid=6785) INFO:     Started server process [6785]\n",
        "(APIServer pid=6785) INFO:     Waiting for application startup.\n",
        "(APIServer pid=6785) INFO:     Application startup complete.\n",
        "```\n",
        "Then run below cell."
      ],
      "metadata": {
        "id": "qEuU6AJvVM-H"
      }
    },
    {
      "cell_type": "code",
      "source": [
        "from openai import OpenAI\n",
        "client = OpenAI(base_url=\"http://127.0.0.1:8000/v1\", api_key=\"not-needed\")\n",
        "\n",
        "# See the actual model id(s)\n",
        "models = client.models.list()\n",
        "print([m.id for m in models.data])  # e.g. ['./models/qwen2-7b-instruct-awq']\n",
        "\n",
        "# Use the exact id returned above\n",
        "mid = models.data[0].id\n",
        "resp = client.chat.completions.create(\n",
        "    model=mid,\n",
        "    messages=[{\"role\":\"user\",\"content\":\"Say hello in one short line.\"}],\n",
        ")\n",
        "print(resp.choices[0].message.content)"
      ],
      "metadata": {
        "id": "aW-dMSwXA6d2",
        "colab": {
          "base_uri": "https://localhost:8080/"
        },
        "outputId": "a5e3b061-d811-4c23-d37d-882223d8efad"
      },
      "execution_count": null,
      "outputs": [
        {
          "output_type": "stream",
          "name": "stdout",
          "text": [
            "['./models/qwen2-7b-instruct-awq']\n",
            "Hello!\n"
          ]
        }
      ]
    },
    {
      "cell_type": "markdown",
      "source": [
        "Automatically checks if the QGIS tools server is running on 127.0.0.1:7000, and if not, starts it under your micromamba env and waits until it’s healthy.\n"
      ],
      "metadata": {
        "id": "dLhhgQKHWkd2"
      }
    },
    {
      "cell_type": "markdown",
      "source": [
        "Installing FastAPI"
      ],
      "metadata": {
        "id": "k1zKfr-yW1Cd"
      }
    },
    {
      "cell_type": "code",
      "source": [
        "import subprocess, sys, os, time, requests, pathlib\n",
        "\n",
        "MICRO=\"/opt/mamba/bin/micromamba\"\n",
        "ENV=\"qgis310\"\n",
        "\n",
        "subprocess.run([MICRO,\"run\",\"-n\",ENV,\"python\",\"-m\",\"pip\",\"install\",\"-q\",\n",
        "                \"fastapi\",\"uvicorn[standard]\",\"pydantic\",\"requests\"], check=True)\n",
        "print(\"✅ FastAPI/uvicorn installed in qgis310\")\n"
      ],
      "metadata": {
        "colab": {
          "base_uri": "https://localhost:8080/"
        },
        "id": "T51Df-n2ScSw",
        "outputId": "d76c30f6-5283-4825-92da-e27ad092c2d9"
      },
      "execution_count": null,
      "outputs": [
        {
          "output_type": "stream",
          "name": "stdout",
          "text": [
            "✅ FastAPI/uvicorn installed in qgis310\n"
          ]
        }
      ]
    },
    {
      "cell_type": "markdown",
      "source": [
        "Creating qgis server py file"
      ],
      "metadata": {
        "id": "2DtO2DW2Xf_W"
      }
    },
    {
      "cell_type": "code",
      "source": [
        "code = r\"\"\"\n",
        "import os, json\n",
        "from fastapi import FastAPI\n",
        "from pydantic import BaseModel\n",
        "import uvicorn\n",
        "\n",
        "# ---- QGIS bootstrap (safe even if QGIS is absent) ----\n",
        "PREFIX = os.environ.get(\"QGIS_PREFIX_PATH\") or os.sys.prefix\n",
        "os.environ.setdefault(\"QT_QPA_PLATFORM\",\"offscreen\")\n",
        "os.environ.setdefault(\"QGIS_PREFIX_PATH\", PREFIX)\n",
        "os.environ.setdefault(\"QGIS_PLUGINPATH\", os.path.join(PREFIX,\"lib\",\"qgis\",\"plugins\"))\n",
        "os.environ.setdefault(\"PROJ_LIB\", os.path.join(PREFIX,\"share\",\"proj\"))\n",
        "os.environ.setdefault(\"GDAL_DATA\", os.path.join(PREFIX,\"share\",\"gdal\"))\n",
        "os.makedirs(\"/tmp/runtime-qgis\", exist_ok=True)\n",
        "os.environ.setdefault(\"XDG_RUNTIME_DIR\",\"/tmp/runtime-qgis\")\n",
        "\n",
        "QGIS_OK, QGIS_VER, QGIS_ERR = False, \"unknown\", None\n",
        "try:\n",
        "    from qgis.core import QgsApplication, Qgis\n",
        "    from processing.core.Processing import Processing\n",
        "    import processing\n",
        "    app_q = QgsApplication([], False)\n",
        "    app_q.setPrefixPath(PREFIX, True)\n",
        "    app_q.initQgis()\n",
        "    Processing.initialize()\n",
        "    QGIS_OK, QGIS_VER = True, str(Qgis.QGIS_VERSION)\n",
        "except Exception as e:\n",
        "    QGIS_ERR = repr(e)\n",
        "\n",
        "# ---- Replace this with your real elev-band processing.run(...) ----\n",
        "def make_elev_bands(args):\n",
        "    in_tif   = args.get(\"in_tif\")\n",
        "    interval = int(args.get(\"interval\", 5))\n",
        "    out_gpkg = args.get(\"out_gpkg\",\"/content/elev_bands.gpkg\")\n",
        "    if not QGIS_OK:\n",
        "        return {\"ok\": False, \"error\": f\"QGIS not ready: {QGIS_ERR}\", \"input\": in_tif, \"interval\": interval, \"output\": out_gpkg}\n",
        "    # Example skeleton (uncomment and adapt):\n",
        "    # params = {\n",
        "    #   \"INPUT\": in_tif,\n",
        "    #   \"INTERVAL\": interval,\n",
        "    #   \"FIELD_NAME\": \"ELEV\",\n",
        "    #   \"CREATE_3D\": False,\n",
        "    #   \"IGNORE_NODATA\": True,\n",
        "    #   \"NODATA\": None,\n",
        "    #   \"OFFSET\": 0,\n",
        "    #   \"OUTPUT\": out_gpkg,\n",
        "    # }\n",
        "    # processing.run(\"gdal:contour\", params)\n",
        "    return {\"ok\": True, \"input\": in_tif, \"interval\": interval, \"output\": out_gpkg}\n",
        "\n",
        "# ---- API wiring ----\n",
        "class ToolReq(BaseModel):\n",
        "    name: str\n",
        "    args: dict = {}\n",
        "\n",
        "app = FastAPI()\n",
        "\n",
        "@app.get(\"/health\")\n",
        "def health():\n",
        "    return {\"qgis_ready\": QGIS_OK, \"qgis_version\": QGIS_VER, \"qgis_error\": QGIS_ERR}\n",
        "\n",
        "@app.post(\"/tool\")\n",
        "def tool(req: ToolReq):\n",
        "    if req.name == \"make_elev_bands\":\n",
        "        return make_elev_bands(req.args)\n",
        "    return {\"error\": f\"unknown tool {req.name}\"}\n",
        "\n",
        "if __name__ == \"__main__\":\n",
        "    uvicorn.run(app, host=\"127.0.0.1\", port=7000)\n",
        "\"\"\"\n",
        "path = pathlib.Path(\"/content/qgis_tools_server.py\")\n",
        "path.write_text(code)\n",
        "print(\"✅ Wrote /content/qgis_tools_server.py\")\n"
      ],
      "metadata": {
        "colab": {
          "base_uri": "https://localhost:8080/"
        },
        "id": "hNStrJoMTdCX",
        "outputId": "42278bb8-636a-4e96-b76d-7dabbdba7a9c"
      },
      "execution_count": null,
      "outputs": [
        {
          "output_type": "stream",
          "name": "stdout",
          "text": [
            "✅ Wrote /content/qgis_tools_server.py\n"
          ]
        }
      ]
    },
    {
      "cell_type": "markdown",
      "source": [
        "Starting QGIS server"
      ],
      "metadata": {
        "id": "u7E2cv_eXsDl"
      }
    },
    {
      "cell_type": "code",
      "source": [
        "MICRO=\"/opt/mamba/bin/micromamba\"; ENV=\"qgis310\"\n",
        "\n",
        "# start in background\n",
        "proc = subprocess.Popen([MICRO,\"run\",\"-n\",ENV,\"python\",\"/content/qgis_tools_server.py\"],\n",
        "                        stdout=subprocess.PIPE, stderr=subprocess.STDOUT, text=True)\n",
        "\n",
        "# wait up to ~10s for /health\n",
        "import time, requests\n",
        "ok=False\n",
        "for _ in range(20):\n",
        "    time.sleep(0.5)\n",
        "    try:\n",
        "        r = requests.get(\"http://127.0.0.1:7000/health\", timeout=1)\n",
        "        print(\"Health:\", r.json()); ok=True; break\n",
        "    except Exception:\n",
        "        pass\n",
        "\n",
        "# if not up, print first 60 lines of logs to see why\n",
        "if not ok:\n",
        "    print(\"❌ Server didn’t start; showing logs:\")\n",
        "    for i, line in zip(range(60), proc.stdout):\n",
        "        print(line.rstrip())"
      ],
      "metadata": {
        "colab": {
          "base_uri": "https://localhost:8080/"
        },
        "id": "D4r84WJuTfbh",
        "outputId": "03a73c39-b6d2-4b31-ef50-f97909fb6920"
      },
      "execution_count": null,
      "outputs": [
        {
          "output_type": "stream",
          "name": "stdout",
          "text": [
            "Health: {'qgis_ready': True, 'qgis_version': '3.28.12-Firenze', 'qgis_error': None}\n"
          ]
        }
      ]
    },
    {
      "cell_type": "markdown",
      "source": [
        "Moment of truth:\n",
        "\n",
        "Here note down that the chat prompt is under:\n",
        "\n",
        "\n",
        "\n",
        "```\n",
        "resp = client.chat.completions.create(\n",
        "    model=mid,\n",
        "    messages=[\n",
        "      {\"role\":\"system\",\"content\":\"Use the provided arguments exactly when calling the function.\"},\n",
        "      {\"role\":\"user\",\"content\": f\"Call make_elev_bands with these args: {json.dumps(call_args)}\"}\n",
        "    ],\n",
        "    tools=TOOLS,\n",
        "    tool_choice={\"type\":\"function\",\"function\":{\"name\":\"make_elev_bands\"}}\n",
        ")\n",
        "```\n",
        "\n",
        "\n"
      ],
      "metadata": {
        "id": "1PdRvk1KX6zJ"
      }
    },
    {
      "cell_type": "code",
      "source": [
        "from openai import OpenAI\n",
        "import json, requests\n",
        "\n",
        "BASE = \"http://127.0.0.1:8000/v1\"   # current server (no auto tool-choice)\n",
        "client = OpenAI(base_url=BASE, api_key=\"not-needed\")\n",
        "\n",
        "mid = client.models.list().data[0].id  # use served id (often the model path)\n",
        "\n",
        "TOOLS = [{\n",
        "  \"type\":\"function\",\n",
        "  \"function\":{\n",
        "    \"name\":\"make_elev_bands\",\n",
        "    \"description\":\"Generate elevation bands with QGIS.\",\n",
        "    \"parameters\":{\n",
        "      \"type\":\"object\",\n",
        "      \"properties\":{\n",
        "        \"in_tif\":{\"type\":\"string\"},\n",
        "        \"interval\":{\"type\":\"integer\"},\n",
        "        \"out_gpkg\":{\"type\":\"string\"}\n",
        "      },\n",
        "      \"required\":[\"in_tif\"]\n",
        "    }\n",
        "  }\n",
        "}]\n",
        "\n",
        "# 👉 set your real paths here\n",
        "call_args = {\"in_tif\":\"/content/drive/MyDrive/qgis_copilot/proj/data/dem_filled.tif\", \"interval\":5, \"out_gpkg\":\"/content/elev_bands_5m.gpkg\"}\n",
        "\n",
        "resp = client.chat.completions.create(\n",
        "    model=mid,\n",
        "    messages=[\n",
        "      {\"role\":\"system\",\"content\":\"Use the provided arguments exactly when calling the function.\"},\n",
        "      {\"role\":\"user\",\"content\": f\"Call make_elev_bands with these args: {json.dumps(call_args)}\"}\n",
        "    ],\n",
        "    tools=TOOLS,\n",
        "    tool_choice={\"type\":\"function\",\"function\":{\"name\":\"make_elev_bands\"}}\n",
        ")\n",
        "\n",
        "msg = resp.choices[0].message\n",
        "if not msg.tool_calls:\n",
        "    # fallback if the model didn't include args—use ours directly\n",
        "    args = call_args\n",
        "else:\n",
        "    args = json.loads(msg.tool_calls[0].function.arguments or \"{}\")\n",
        "\n",
        "tool_result = requests.post(\n",
        "    \"http://127.0.0.1:7000/tool\",\n",
        "    json={\"name\":\"make_elev_bands\",\"args\":args},\n",
        "    timeout=600\n",
        ").json()\n",
        "print(\"Tool result:\", tool_result)"
      ],
      "metadata": {
        "colab": {
          "base_uri": "https://localhost:8080/"
        },
        "id": "hQeQeYv0TnF5",
        "outputId": "1c9e8587-6ae7-4d60-9de7-c06290f29fa5"
      },
      "execution_count": null,
      "outputs": [
        {
          "output_type": "stream",
          "name": "stdout",
          "text": [
            "Tool result: {'ok': True, 'input': '/content/drive/MyDrive/qgis_copilot/proj/data/dem_filled.tif', 'interval': 5, 'output': '/content/elev_bands_5m.gpkg'}\n"
          ]
        }
      ]
    },
    {
      "cell_type": "code",
      "source": [
        "!ls /content/elev_bands_5m.gpkg\n"
      ],
      "metadata": {
        "colab": {
          "base_uri": "https://localhost:8080/"
        },
        "id": "jn-4tbVXwokq",
        "outputId": "d7bacff6-364b-47f2-9c9a-ed94c6518dbc"
      },
      "execution_count": null,
      "outputs": [
        {
          "output_type": "stream",
          "name": "stdout",
          "text": [
            "ls: cannot access '/content/elev_bands_5m.gpkg': No such file or directory\n"
          ]
        }
      ]
    },
    {
      "cell_type": "code",
      "source": [
        "%%file qgis_tools_server.py\n",
        "# /content/qgis_tools_server.py\n",
        "import os, json, shlex, subprocess, pathlib\n",
        "from fastapi import FastAPI, HTTPException\n",
        "from pydantic import BaseModel\n",
        "import uvicorn\n",
        "\n",
        "# ---- config: adjust if your paths differ ----\n",
        "ENV_NAME = os.environ.get(\"ENV_NAME\",\"qgis310\")\n",
        "MAMBA_ROOT_PREFIX = os.environ.get(\"MAMBA_ROOT_PREFIX\",\"/opt/mamba\")\n",
        "MAMBA_BIN = os.environ.get(\"MAMBA_BIN\", f\"{MAMBA_ROOT_PREFIX}/bin/micromamba\")\n",
        "SCRIPT_PATH = os.environ.get(\"ELEV_SCRIPT\", \"/content/drive/MyDrive/qgis_copilot/make_elev_bands.py\")\n",
        "\n",
        "# Ensure micromamba is reachable\n",
        "if not (os.path.exists(MAMBA_BIN) and os.access(MAMBA_BIN, os.X_OK)):\n",
        "    # fallback to PATH lookup\n",
        "    from shutil import which\n",
        "    MAMBA_BIN = which(\"micromamba\") or MAMBA_BIN\n",
        "\n",
        "class ToolReq(BaseModel):\n",
        "    name: str\n",
        "    args: dict = {}\n",
        "\n",
        "app = FastAPI()\n",
        "\n",
        "@app.get(\"/health\")\n",
        "def health():\n",
        "    info = {\n",
        "        \"micromamba\": MAMBA_BIN,\n",
        "        \"env_name\": ENV_NAME,\n",
        "        \"script\": SCRIPT_PATH,\n",
        "    }\n",
        "    # try to read QGIS version inside the env (best-effort)\n",
        "    try:\n",
        "        cmd = [MAMBA_BIN, \"run\", \"-n\", ENV_NAME, \"python\", \"-c\",\n",
        "               \"from qgis.core import Qgis; print(Qgis.QGIS_VERSION)\"]\n",
        "        ver = subprocess.run(cmd, capture_output=True, text=True, timeout=30)\n",
        "        info[\"qgis_version\"] = ver.stdout.strip() or ver.stderr.strip()\n",
        "        info[\"qgis_status\"] = (ver.returncode == 0)\n",
        "    except Exception as e:\n",
        "        info[\"qgis_status\"] = False\n",
        "        info[\"qgis_error\"] = repr(e)\n",
        "    return info\n",
        "\n",
        "def _run_make_elev_bands(in_tif: str, interval: int|float = 10, out_gpkg: str|None = None, prefix: str|None = None):\n",
        "    if not os.path.exists(SCRIPT_PATH):\n",
        "        raise HTTPException(status_code=500, detail=f\"Script not found: {SCRIPT_PATH}\")\n",
        "    if not in_tif or not os.path.exists(in_tif):\n",
        "        raise HTTPException(status_code=400, detail=f\"Input DEM not found: {in_tif}\")\n",
        "    if not out_gpkg:\n",
        "        out_gpkg = \"/content/elev_bands.gpkg\"\n",
        "    os.makedirs(os.path.dirname(out_gpkg), exist_ok=True)\n",
        "\n",
        "    # Optional: resolve the env’s sys.prefix for --prefix\n",
        "    env_prefix = None\n",
        "    try:\n",
        "        cmd = [MAMBA_BIN, \"run\", \"-n\", ENV_NAME, \"python\", \"-c\", \"import sys; print(sys.prefix)\"]\n",
        "        r = subprocess.run(cmd, capture_output=True, text=True, timeout=20)\n",
        "        if r.returncode == 0:\n",
        "            env_prefix = r.stdout.strip()\n",
        "    except Exception:\n",
        "        env_prefix = None\n",
        "    if prefix:  # allow override from args\n",
        "        env_prefix = prefix\n",
        "\n",
        "    cmd = [\n",
        "        MAMBA_BIN, \"run\", \"-n\", ENV_NAME, \"python\", SCRIPT_PATH,\n",
        "        \"--in\", in_tif,\n",
        "        \"--out\", out_gpkg,\n",
        "        \"--interval\", str(interval),\n",
        "    ]\n",
        "    if env_prefix:\n",
        "        cmd += [\"--prefix\", env_prefix]\n",
        "\n",
        "    proc = subprocess.run(cmd, capture_output=True, text=True)\n",
        "    stdout, stderr, rc = proc.stdout, proc.stderr, proc.returncode\n",
        "\n",
        "    exists = os.path.exists(out_gpkg)\n",
        "    size = os.path.getsize(out_gpkg) if exists else 0\n",
        "\n",
        "    result = {\n",
        "        \"ok\": (rc == 0 and exists and size > 0),\n",
        "        \"cmd\": \" \".join(shlex.quote(x) for x in cmd),\n",
        "        \"rc\": rc,\n",
        "        \"stdout\": stdout[-2000:],  # last 2k chars\n",
        "        \"stderr\": stderr[-2000:],\n",
        "        \"input\": os.path.abspath(in_tif),\n",
        "        \"interval\": float(interval),\n",
        "        \"output\": os.path.abspath(out_gpkg),\n",
        "        \"size_bytes\": int(size),\n",
        "        \"env_prefix\": env_prefix,\n",
        "    }\n",
        "    if not result[\"ok\"]:\n",
        "        raise HTTPException(status_code=500, detail=result)\n",
        "    return result\n",
        "\n",
        "@app.post(\"/tool\")\n",
        "def tool(req: ToolReq):\n",
        "    if req.name == \"make_elev_bands\":\n",
        "        a = req.args or {}\n",
        "        return _run_make_elev_bands(\n",
        "            in_tif=a.get(\"in_tif\"),\n",
        "            interval=a.get(\"interval\", 10),\n",
        "            out_gpkg=a.get(\"out_gpkg\"),\n",
        "            prefix=a.get(\"prefix\")\n",
        "        )\n",
        "    raise HTTPException(status_code=404, detail=f\"Unknown tool: {req.name}\")\n",
        "\n",
        "if __name__ == \"__main__\":\n",
        "    uvicorn.run(app, host=\"127.0.0.1\", port=7000)\n"
      ],
      "metadata": {
        "colab": {
          "base_uri": "https://localhost:8080/"
        },
        "id": "nxF_v5eM1J5M",
        "outputId": "249b3baa-5512-4479-ee4a-92c750d900ec"
      },
      "execution_count": null,
      "outputs": [
        {
          "output_type": "stream",
          "name": "stdout",
          "text": [
            "Overwriting qgis_tools_server.py\n"
          ]
        }
      ]
    },
    {
      "cell_type": "code",
      "source": [
        "import os, pathlib\n",
        "os.makedirs(\"/content/drive/MyDrive/qgis_copilot/proj/data\", exist_ok=True)\n",
        "\n",
        "call_args = {\n",
        "  \"in_tif\": \"/content/drive/MyDrive/qgis_copilot/proj/data/dem_filled.tif\",\n",
        "  \"interval\": 5,\n",
        "  \"out_gpkg\": \"/content/drive/MyDrive/qgis_copilot/proj/data/elev_bands_5m.gpkg\",\n",
        "}\n"
      ],
      "metadata": {
        "id": "8I_ZbX5j1W9w"
      },
      "execution_count": null,
      "outputs": []
    },
    {
      "cell_type": "code",
      "source": [
        "!fuser -k 7000/tcp || true"
      ],
      "metadata": {
        "colab": {
          "base_uri": "https://localhost:8080/"
        },
        "id": "jx49zDwD1eCN",
        "outputId": "9327c86c-b2c6-4fe2-94bd-b05c4996619a"
      },
      "execution_count": null,
      "outputs": [
        {
          "output_type": "stream",
          "name": "stdout",
          "text": [
            "7000/tcp:            21003\n"
          ]
        }
      ]
    },
    {
      "cell_type": "code",
      "source": [
        "MICRO=\"/opt/mamba/bin/micromamba\"; ENV=\"qgis310\"\n",
        "\n",
        "# start in background\n",
        "proc = subprocess.Popen([MICRO,\"run\",\"-n\",ENV,\"python\",\"/content/qgis_tools_server.py\"],\n",
        "                        stdout=subprocess.PIPE, stderr=subprocess.STDOUT, text=True)\n",
        "\n",
        "# wait up to ~10s for /health\n",
        "import time, requests\n",
        "ok=False\n",
        "for _ in range(20):\n",
        "    time.sleep(0.5)\n",
        "    try:\n",
        "        r = requests.get(\"http://127.0.0.1:7000/health\", timeout=1)\n",
        "        print(\"Health:\", r.json()); ok=True; break\n",
        "    except Exception:\n",
        "        pass\n",
        "\n",
        "# if not up, print first 60 lines of logs to see why\n",
        "if not ok:\n",
        "    print(\"❌ Server didn’t start; showing logs:\")\n",
        "    for i, line in zip(range(60), proc.stdout):\n",
        "        print(line.rstrip())"
      ],
      "metadata": {
        "colab": {
          "base_uri": "https://localhost:8080/"
        },
        "id": "xXdksprh191g",
        "outputId": "6ed20399-4a01-420a-8683-c637c722bb31"
      },
      "execution_count": null,
      "outputs": [
        {
          "output_type": "stream",
          "name": "stdout",
          "text": [
            "Health: {'micromamba': '/opt/mamba/bin/micromamba', 'env_name': 'qgis310', 'script': '/content/drive/MyDrive/qgis_copilot/make_elev_bands.py', 'qgis_version': '3.28.12-Firenze', 'qgis_status': True}\n"
          ]
        }
      ]
    },
    {
      "cell_type": "code",
      "source": [
        "from openai import OpenAI\n",
        "import json, requests, os\n",
        "\n",
        "BASE = \"http://127.0.0.1:8000/v1\"\n",
        "client = OpenAI(base_url=BASE, api_key=\"not-needed\")\n",
        "\n",
        "mid = client.models.list().data[0].id\n",
        "\n",
        "TOOLS = [{\n",
        "  \"type\":\"function\",\n",
        "  \"function\":{\n",
        "    \"name\":\"make_elev_bands\",\n",
        "    \"description\":\"Generate elevation bands with QGIS.\",\n",
        "    \"parameters\":{\n",
        "      \"type\":\"object\",\n",
        "      \"properties\":{\n",
        "        \"in_tif\":{\"type\":\"string\"},\n",
        "        \"interval\":{\"type\":\"number\"},\n",
        "        \"out_gpkg\":{\"type\":\"string\"}\n",
        "      },\n",
        "      \"required\":[\"in_tif\"]\n",
        "    }\n",
        "  }\n",
        "}]\n",
        "\n",
        "call_args = {\n",
        "  \"in_tif\": \"/content/drive/MyDrive/qgis_copilot/proj/data/dem_filled.tif\",\n",
        "  \"interval\": 5,\n",
        "  \"out_gpkg\": \"/content/drive/MyDrive/qgis_copilot/proj/data/elev_bands_5m.gpkg\",\n",
        "}\n",
        "\n",
        "resp = client.chat.completions.create(\n",
        "    model=mid,\n",
        "    messages=[\n",
        "      {\"role\":\"system\",\"content\":\"Use the provided arguments exactly when calling the function.\"},\n",
        "      {\"role\":\"user\",\"content\": f\"Call make_elev_bands with these args: {json.dumps(call_args)}\"}\n",
        "    ],\n",
        "    tools=TOOLS,\n",
        "    tool_choice={\"type\":\"function\",\"function\":{\"name\":\"make_elev_bands\"}}\n",
        ")\n",
        "\n",
        "msg = resp.choices[0].message\n",
        "args = call_args if not getattr(msg, \"tool_calls\", None) else json.loads(msg.tool_calls[0].function.arguments or \"{}\")\n",
        "\n",
        "tool_result = requests.post(\n",
        "    \"http://127.0.0.1:7000/tool\",\n",
        "    json={\"name\":\"make_elev_bands\",\"args\":args},\n",
        "    timeout=900\n",
        ").json()\n",
        "\n",
        "print(\"Tool result:\", json.dumps(tool_result, indent=2))\n",
        "out = tool_result.get(\"output\")\n",
        "print(\"Exists:\", os.path.exists(out), \"Size:\", os.path.getsize(out) if os.path.exists(out) else 0, \"Path:\", out)\n"
      ],
      "metadata": {
        "colab": {
          "base_uri": "https://localhost:8080/"
        },
        "id": "0zG7nN3e26t4",
        "outputId": "9ae96c28-c9d4-40b6-adf7-b3a986121dc4"
      },
      "execution_count": null,
      "outputs": [
        {
          "output_type": "stream",
          "name": "stdout",
          "text": [
            "Tool result: {\n",
            "  \"ok\": true,\n",
            "  \"cmd\": \"/opt/mamba/bin/micromamba run -n qgis310 python /content/drive/MyDrive/qgis_copilot/make_elev_bands.py --in /content/drive/MyDrive/qgis_copilot/proj/data/dem_filled.tif --out /content/drive/MyDrive/qgis_copilot/proj/data/elev_bands_5m.gpkg --interval 5 --prefix /opt/mamba/envs/qgis310\",\n",
            "  \"rc\": 0,\n",
            "  \"stdout\": \"DEBUG: prefix: /opt/mamba/envs/qgis310 plugin: /opt/mamba/envs/qgis310/lib/qgis/plugins\\nWrote: /content/drive/MyDrive/qgis_copilot/proj/data/elev_bands_5m.gpkg\\n\",\n",
            "  \"stderr\": \"\",\n",
            "  \"input\": \"/content/drive/MyDrive/qgis_copilot/proj/data/dem_filled.tif\",\n",
            "  \"interval\": 5.0,\n",
            "  \"output\": \"/content/drive/MyDrive/qgis_copilot/proj/data/elev_bands_5m.gpkg\",\n",
            "  \"size_bytes\": 1429504,\n",
            "  \"env_prefix\": \"/opt/mamba/envs/qgis310\"\n",
            "}\n",
            "Exists: True Size: 1429504 Path: /content/drive/MyDrive/qgis_copilot/proj/data/elev_bands_5m.gpkg\n"
          ]
        }
      ]
    }
  ]
}